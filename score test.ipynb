{
 "cells": [
  {
   "cell_type": "code",
   "execution_count": null,
   "id": "628c3a9c",
   "metadata": {},
   "outputs": [],
   "source": [
    "import numpy as np\n",
    "from sklearn.model_selection import train_test_split\n",
    "from tensorflow.keras.models import Model, load_model\n",
    "from tensorflow.keras.layers import Input, Dense, Conv2D, Flatten, Concatenate\n",
    "from tensorflow.keras.optimizers import Adam\n",
    "from tensorflow.keras.utils import to_categorical\n",
    "\n",
    "# 模擬數據\n",
    "num_samples = 2\n",
    "frames = np.random.random((num_samples, 64, 64,3))\n",
    "actions = np.random.randint(3, size=num_samples)\n",
    "durations = np.random.random(num_samples)\n",
    "scores = np.random.randint(1, 101, size=num_samples)\n",
    "\n",
    "# 將數據分為訓練集和驗證集\n",
    "X_train, X_val, y_train_actions, y_val_actions, y_train_durations, y_val_durations, y_train_scores, y_val_scores = train_test_split(\n",
    "    frames, actions, durations, scores, test_size=0.2, random_state=42\n",
    ")\n",
    "\n",
    "# 假設 actions 有3個可能的值（例如：跳躍，滑行，其他）\n",
    "num_classes = 3\n",
    "y_train_actions_categorical = to_categorical(y_train_actions, num_classes=num_classes)\n",
    "y_val_actions_categorical = to_categorical(y_val_actions, num_classes=num_classes)"
   ]
  },
  {
   "cell_type": "code",
   "execution_count": null,
   "id": "2deed6ae-e966-483d-834b-2ba6ca0de56a",
   "metadata": {},
   "outputs": [],
   "source": [
    "#確認數據\n",
    "print(frames)\n",
    "print(\"--------------------------------------------\")\n",
    "print(actions)\n",
    "print(\"--------------------------------------------\")\n",
    "print(durations)\n",
    "print(\"--------------------------------------------\")\n",
    "print(scores)"
   ]
  },
  {
   "cell_type": "code",
   "execution_count": null,
   "id": "f68cd11a",
   "metadata": {},
   "outputs": [],
   "source": [
    "input_frames = Input(shape=(64, 64, 3), name='frames')\n",
    "input_actions = Input(shape=(1,), name='actions')\n",
    "input_durations = Input(shape=(1,), name='durations')\n",
    "\n",
    "x = Conv2D(32, (3, 3), activation='relu')(input_frames)\n",
    "x = Flatten()(x)\n",
    "\n",
    "concatenated = Concatenate()([x, input_actions, input_durations])\n",
    "\n",
    "dense = Dense(128, activation='relu')(concatenated)\n",
    "score_output = Dense(1, activation='linear', name='score')(dense)\n",
    "\n",
    "score_model = Model(inputs=[input_frames, input_actions, input_durations], outputs=score_output)\n",
    "score_model.compile(optimizer=Adam(learning_rate=0.001), loss='mean_squared_error', metrics=['mae'])\n",
    "\n",
    "# 訓練評分預測模型\n",
    "score_model.fit(\n",
    "    [X_train, y_train_actions, y_train_durations],\n",
    "    y_train_scores,\n",
    "    validation_data=([X_val, y_val_actions, y_val_durations], y_val_scores),\n",
    "    epochs=10,\n",
    "    batch_size=32\n",
    ")\n"
   ]
  },
  {
   "cell_type": "code",
   "execution_count": null,
   "id": "7718ed8f",
   "metadata": {},
   "outputs": [],
   "source": [
    "# 加載訓練好的舊模型\n",
    "custom_objects = {'mse': 'mean_squared_error'}\n",
    "old_model = load_model('test_cookie_run_model.h5', custom_objects=custom_objects)\n",
    "\n",
    "# 使用新的數據進行再訓練，增加評分數據作為權重進行優化\n",
    "predicted_scores = score_model.predict([X_train, y_train_actions, y_train_durations])\n",
    "weights = predicted_scores.flatten() / 100.0  # 將評分標準化作為權重\n",
    "# 為每個輸出分別創建sample_weight\n",
    "action_weights = weights\n",
    "duration_weights = weights\n",
    "# 重新編譯主模型以應用新優化器\n",
    "old_model.compile(optimizer=Adam(learning_rate=0.001), loss={'action_output': 'categorical_crossentropy', 'duration_output': 'mse'}, metrics={'action_output': 'accuracy', 'duration_output': 'mse'})\n",
    "\n",
    "# 確保目標數據的形狀與模型輸出的形狀匹配\n",
    "old_model.fit(\n",
    "    X_train,\n",
    "    {'action_output': y_train_actions_categorical, 'duration_output': y_train_durations},\n",
    "    sample_weight={'action_output': action_weights, 'duration_output': duration_weights},\n",
    "    validation_data=(X_val, {'action_output': y_val_actions_categorical, 'duration_output': y_val_durations}),\n",
    "    epochs=10,\n",
    "    batch_size=32\n",
    ")\n",
    "\n",
    "# 儲存優化後的模型\n",
    "old_model.save('test_update.h5')\n"
   ]
  }
 ],
 "metadata": {
  "kernelspec": {
   "display_name": "Python 3 (ipykernel)",
   "language": "python",
   "name": "python3"
  },
  "language_info": {
   "codemirror_mode": {
    "name": "ipython",
    "version": 3
   },
   "file_extension": ".py",
   "mimetype": "text/x-python",
   "name": "python",
   "nbconvert_exporter": "python",
   "pygments_lexer": "ipython3",
   "version": "3.11.7"
  }
 },
 "nbformat": 4,
 "nbformat_minor": 5
}
